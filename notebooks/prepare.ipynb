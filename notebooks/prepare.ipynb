{
 "cells": [
  {
   "cell_type": "code",
   "execution_count": 50,
   "id": "bfd772a1-ffcc-4d3e-9515-073cfcb1147f",
   "metadata": {},
   "outputs": [],
   "source": [
    "import os\n",
    "import re\n",
    "import shutil\n",
    "import random"
   ]
  },
  {
   "cell_type": "code",
   "execution_count": 51,
   "id": "a0b4809c-2e2d-4ffa-b877-835d00ffb6cd",
   "metadata": {},
   "outputs": [],
   "source": [
    "classes = [\"empty\", \"right\", \"wrong\"]\n",
    "raw_path = \"../data/raw/\"\n",
    "train_path = \"../data/train\"\n",
    "validation_path = \"../data/validation\""
   ]
  },
  {
   "cell_type": "markdown",
   "id": "a7a86c77-e80e-4c66-9cdc-d6fed96ea5a3",
   "metadata": {},
   "source": [
    "Fisrt compute how much wrong pics and prepare the train and validation folder for wrong class"
   ]
  },
  {
   "cell_type": "code",
   "execution_count": 52,
   "id": "963d384e-4597-4e8c-9f39-ab6fe30918d2",
   "metadata": {},
   "outputs": [
    {
     "name": "stdout",
     "output_type": "stream",
     "text": [
      "1754\n"
     ]
    }
   ],
   "source": [
    "# get all the wrong pics\n",
    "wrongs = [w for w in os.listdir(os.path.join(raw_path,\"wrong\"))]\n",
    "n_wrongs = len(wrongs)\n",
    "print(n_wrongs)"
   ]
  },
  {
   "cell_type": "code",
   "execution_count": 53,
   "id": "373e3c4e-ef53-4c74-8508-bdcd6c1a5bd9",
   "metadata": {},
   "outputs": [
    {
     "name": "stdout",
     "output_type": "stream",
     "text": [
      "1578 176\n"
     ]
    }
   ],
   "source": [
    "# 90% training set and 10% validation set\n",
    "n_train = int(n_wrongs * 90 / 100)\n",
    "n_validation = n_wrongs - n_train\n",
    "print(f\"{n_train} {n_validation}\")"
   ]
  },
  {
   "cell_type": "code",
   "execution_count": 54,
   "id": "802b452a-2790-4175-9991-d84008d5f39d",
   "metadata": {},
   "outputs": [
    {
     "name": "stdout",
     "output_type": "stream",
     "text": [
      "1578\n"
     ]
    }
   ],
   "source": [
    "# populate the training for the wrong classthe wrong class\n",
    "special_wrongs = set([w for w in wrongs if w.endswith(\"_s.jpg\")])\n",
    "train_set = special_wrongs.copy()\n",
    "train_set.update(set(random.sample([x for x in wrongs if x not in special_wrongs], n_train - len(special_wrongs))))\n",
    "print(len(train_set))"
   ]
  },
  {
   "cell_type": "code",
   "execution_count": 55,
   "id": "e5eb7e43-e0d2-4f4a-8da4-02d0c87875e8",
   "metadata": {},
   "outputs": [
    {
     "name": "stdout",
     "output_type": "stream",
     "text": [
      "176\n"
     ]
    }
   ],
   "source": [
    "#populate the validation set for the wrong class\n",
    "validation_set = set(wrongs).difference(train_set)\n",
    "print(len(validation_set))"
   ]
  },
  {
   "cell_type": "code",
   "execution_count": 60,
   "id": "4f2975d4-15bb-4d6a-ab93-5401df678ecc",
   "metadata": {},
   "outputs": [],
   "source": [
    "for pic in train_set:\n",
    "    shutil.copy2(os.path.join(raw_path,\"wrong\",pic),os.path.join(train_path,\"wrong\",pic))"
   ]
  },
  {
   "cell_type": "code",
   "execution_count": 61,
   "id": "68662622-c09b-430f-9601-6e8ecc9dd251",
   "metadata": {},
   "outputs": [],
   "source": [
    "for pic in validation_set:\n",
    "    shutil.copy2(os.path.join(raw_path,\"wrong\",pic),os.path.join(validation_path,\"wrong\",pic))"
   ]
  },
  {
   "cell_type": "markdown",
   "id": "ed453af9-a206-441e-a1dd-3281d7f03e91",
   "metadata": {},
   "source": [
    "Prepare the empty folder"
   ]
  },
  {
   "cell_type": "code",
   "execution_count": 65,
   "id": "229f9e5e-88dc-4243-a3bf-ba5f47dd876e",
   "metadata": {},
   "outputs": [
    {
     "name": "stdout",
     "output_type": "stream",
     "text": [
      "43846\n"
     ]
    }
   ],
   "source": [
    "# get all the wrong pics\n",
    "empties = [w for w in os.listdir(os.path.join(raw_path,\"empty\"))if not w.endswith(\"_l.jpg\")]\n",
    "n_empties = len(empties)\n",
    "print(n_empties)"
   ]
  },
  {
   "cell_type": "code",
   "execution_count": 66,
   "id": "eaedc09c-c24f-44d3-9b73-acdb92cd8515",
   "metadata": {},
   "outputs": [
    {
     "name": "stdout",
     "output_type": "stream",
     "text": [
      "1578\n"
     ]
    }
   ],
   "source": [
    "# populate the training\n",
    "special_empties = set([w for w in empties if w.endswith(\"_s.jpg\")])\n",
    "train_set = special_empties.copy()\n",
    "train_set.update(set(random.sample([x for x in empties if x not in special_empties], n_train - len(special_empties))))\n",
    "print(len(train_set))"
   ]
  },
  {
   "cell_type": "code",
   "execution_count": 67,
   "id": "915e2ed3-dc1f-4248-b8a3-7bee3a8f7cdc",
   "metadata": {},
   "outputs": [
    {
     "name": "stdout",
     "output_type": "stream",
     "text": [
      "176\n"
     ]
    }
   ],
   "source": [
    "validation_set = set(random.sample([x for x in empties if x not in train_set], n_validation))\n",
    "print(len(validation_set))"
   ]
  },
  {
   "cell_type": "code",
   "execution_count": 68,
   "id": "5980e7c9-8a1d-4148-8cde-8a064dc300ea",
   "metadata": {},
   "outputs": [],
   "source": [
    "for pic in train_set:\n",
    "    shutil.copy2(os.path.join(raw_path,\"empty\",pic),os.path.join(train_path,\"empty\",pic))"
   ]
  },
  {
   "cell_type": "code",
   "execution_count": 69,
   "id": "ea4df54e-188b-4c75-b191-305faa861b81",
   "metadata": {},
   "outputs": [],
   "source": [
    "for pic in validation_set:\n",
    "    shutil.copy2(os.path.join(raw_path,\"empty\",pic),os.path.join(validation_path,\"empty\",pic))"
   ]
  },
  {
   "cell_type": "markdown",
   "id": "77e11602-8664-4fe2-9f66-98330201a562",
   "metadata": {},
   "source": [
    "Prepare the right folder"
   ]
  },
  {
   "cell_type": "code",
   "execution_count": 72,
   "id": "58369ffa-4d89-413e-b933-26125a4d9eb1",
   "metadata": {},
   "outputs": [
    {
     "name": "stdout",
     "output_type": "stream",
     "text": [
      "1578\n"
     ]
    }
   ],
   "source": [
    "train_set = set(random.sample([w for w in os.listdir(os.path.join(raw_path,\"right\"))], n_train))\n",
    "print(len(train_set))"
   ]
  },
  {
   "cell_type": "code",
   "execution_count": 74,
   "id": "f818a66d-d3cc-490a-a9e4-c61e2b6ea354",
   "metadata": {},
   "outputs": [
    {
     "name": "stdout",
     "output_type": "stream",
     "text": [
      "176\n"
     ]
    }
   ],
   "source": [
    "validation_set = set(random.sample([x for x in os.listdir(os.path.join(raw_path,\"right\")) if x not in train_set], n_validation))\n",
    "print(len(validation_set))"
   ]
  },
  {
   "cell_type": "code",
   "execution_count": 75,
   "id": "cb99c244-e274-46c2-bab0-5f7148ff8ea0",
   "metadata": {},
   "outputs": [],
   "source": [
    "for pic in train_set:\n",
    "    shutil.copy2(os.path.join(raw_path,\"right\",pic),os.path.join(train_path,\"right\",pic))"
   ]
  },
  {
   "cell_type": "code",
   "execution_count": 76,
   "id": "6ac13e26-b174-4d03-b970-0830ec225075",
   "metadata": {},
   "outputs": [],
   "source": [
    "for pic in validation_set:\n",
    "    shutil.copy2(os.path.join(raw_path,\"right\",pic),os.path.join(validation_path,\"right\",pic))"
   ]
  }
 ],
 "metadata": {
  "kernelspec": {
   "display_name": "Python 3 (ipykernel)",
   "language": "python",
   "name": "python3"
  },
  "language_info": {
   "codemirror_mode": {
    "name": "ipython",
    "version": 3
   },
   "file_extension": ".py",
   "mimetype": "text/x-python",
   "name": "python",
   "nbconvert_exporter": "python",
   "pygments_lexer": "ipython3",
   "version": "3.12.3"
  }
 },
 "nbformat": 4,
 "nbformat_minor": 5
}
