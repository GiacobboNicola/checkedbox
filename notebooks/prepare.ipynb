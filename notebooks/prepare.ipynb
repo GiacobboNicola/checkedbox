{
 "cells": [
  {
   "cell_type": "code",
   "execution_count": 31,
   "id": "bfd772a1-ffcc-4d3e-9515-073cfcb1147f",
   "metadata": {},
   "outputs": [],
   "source": [
    "import os\n",
    "import re\n",
    "import shutil\n",
    "import random"
   ]
  },
  {
   "cell_type": "code",
   "execution_count": 32,
   "id": "a0b4809c-2e2d-4ffa-b877-835d00ffb6cd",
   "metadata": {},
   "outputs": [],
   "source": [
    "classes = [\"empty\", \"right\", \"wrong\"]\n",
    "raw_path = \"../data/raw/\"\n",
    "train_path = \"../data/train\"\n",
    "validation_path = \"../data/validation\""
   ]
  },
  {
   "cell_type": "markdown",
   "id": "a7a86c77-e80e-4c66-9cdc-d6fed96ea5a3",
   "metadata": {},
   "source": [
    "Fisrt compute how much wrong pics and prepare the train and validation folder for wrong class"
   ]
  },
  {
   "cell_type": "code",
   "execution_count": 33,
   "id": "963d384e-4597-4e8c-9f39-ab6fe30918d2",
   "metadata": {},
   "outputs": [
    {
     "name": "stdout",
     "output_type": "stream",
     "text": [
      "1758\n"
     ]
    }
   ],
   "source": [
    "# get all the wrong pics\n",
    "wrongs = [w for w in os.listdir(os.path.join(raw_path,\"wrong\"))]\n",
    "n_wrongs = len(wrongs)\n",
    "print(n_wrongs)"
   ]
  },
  {
   "cell_type": "code",
   "execution_count": 34,
   "id": "373e3c4e-ef53-4c74-8508-bdcd6c1a5bd9",
   "metadata": {},
   "outputs": [
    {
     "name": "stdout",
     "output_type": "stream",
     "text": [
      "1582 176\n"
     ]
    }
   ],
   "source": [
    "# 90% training set and 10% validation set\n",
    "n_train = int(n_wrongs * 90 / 100)\n",
    "n_validation = n_wrongs - n_train\n",
    "print(f\"{n_train} {n_validation}\")"
   ]
  },
  {
   "cell_type": "code",
   "execution_count": 35,
   "id": "802b452a-2790-4175-9991-d84008d5f39d",
   "metadata": {},
   "outputs": [
    {
     "name": "stdout",
     "output_type": "stream",
     "text": [
      "1582\n"
     ]
    }
   ],
   "source": [
    "# populate the training for the wrong classthe wrong class\n",
    "special_wrongs = set([w for w in wrongs if w.endswith(\"_s.jpg\")])\n",
    "train_set = special_wrongs.copy()\n",
    "train_set.update(set(random.sample([x for x in wrongs if x not in special_wrongs], n_train - len(special_wrongs))))\n",
    "print(len(train_set))"
   ]
  },
  {
   "cell_type": "code",
   "execution_count": 36,
   "id": "e5eb7e43-e0d2-4f4a-8da4-02d0c87875e8",
   "metadata": {},
   "outputs": [
    {
     "name": "stdout",
     "output_type": "stream",
     "text": [
      "176\n"
     ]
    }
   ],
   "source": [
    "#populate the validation set for the wrong class\n",
    "validation_set = set(wrongs).difference(train_set)\n",
    "print(len(validation_set))"
   ]
  },
  {
   "cell_type": "code",
   "execution_count": 37,
   "id": "4f2975d4-15bb-4d6a-ab93-5401df678ecc",
   "metadata": {},
   "outputs": [],
   "source": [
    "for pic in train_set:\n",
    "    shutil.copy2(os.path.join(raw_path,\"wrong\",pic),os.path.join(train_path,\"wrong\",pic))"
   ]
  },
  {
   "cell_type": "code",
   "execution_count": 38,
   "id": "68662622-c09b-430f-9601-6e8ecc9dd251",
   "metadata": {},
   "outputs": [],
   "source": [
    "for pic in validation_set:\n",
    "    shutil.copy2(os.path.join(raw_path,\"wrong\",pic),os.path.join(validation_path,\"wrong\",pic))"
   ]
  },
  {
   "cell_type": "markdown",
   "id": "ed453af9-a206-441e-a1dd-3281d7f03e91",
   "metadata": {},
   "source": [
    "Prepare the empty folder"
   ]
  },
  {
   "cell_type": "code",
   "execution_count": 39,
   "id": "229f9e5e-88dc-4243-a3bf-ba5f47dd876e",
   "metadata": {},
   "outputs": [
    {
     "name": "stdout",
     "output_type": "stream",
     "text": [
      "43844\n"
     ]
    }
   ],
   "source": [
    "# get all the wrong pics\n",
    "empties = [w for w in os.listdir(os.path.join(raw_path,\"empty\"))if not w.endswith(\"_l.jpg\")]\n",
    "n_empties = len(empties)\n",
    "print(n_empties)"
   ]
  },
  {
   "cell_type": "code",
   "execution_count": 40,
   "id": "eaedc09c-c24f-44d3-9b73-acdb92cd8515",
   "metadata": {},
   "outputs": [
    {
     "name": "stdout",
     "output_type": "stream",
     "text": [
      "1582\n"
     ]
    }
   ],
   "source": [
    "# populate the training\n",
    "special_empties = set([w for w in empties if w.endswith(\"_s.jpg\")])\n",
    "train_set = special_empties.copy()\n",
    "train_set.update(set(random.sample([x for x in empties if x not in special_empties], n_train - len(special_empties))))\n",
    "print(len(train_set))"
   ]
  },
  {
   "cell_type": "code",
   "execution_count": 41,
   "id": "915e2ed3-dc1f-4248-b8a3-7bee3a8f7cdc",
   "metadata": {},
   "outputs": [
    {
     "name": "stdout",
     "output_type": "stream",
     "text": [
      "176\n"
     ]
    }
   ],
   "source": [
    "validation_set = set(random.sample([x for x in empties if x not in train_set], n_validation))\n",
    "print(len(validation_set))"
   ]
  },
  {
   "cell_type": "code",
   "execution_count": 42,
   "id": "5980e7c9-8a1d-4148-8cde-8a064dc300ea",
   "metadata": {},
   "outputs": [],
   "source": [
    "for pic in train_set:\n",
    "    shutil.copy2(os.path.join(raw_path,\"empty\",pic),os.path.join(train_path,\"empty\",pic))"
   ]
  },
  {
   "cell_type": "code",
   "execution_count": 43,
   "id": "ea4df54e-188b-4c75-b191-305faa861b81",
   "metadata": {},
   "outputs": [],
   "source": [
    "for pic in validation_set:\n",
    "    shutil.copy2(os.path.join(raw_path,\"empty\",pic),os.path.join(validation_path,\"empty\",pic))"
   ]
  },
  {
   "cell_type": "markdown",
   "id": "77e11602-8664-4fe2-9f66-98330201a562",
   "metadata": {},
   "source": [
    "Prepare the right folder"
   ]
  },
  {
   "cell_type": "code",
   "execution_count": 44,
   "id": "0a637321-325b-4cd7-8bd4-4c05071bdbce",
   "metadata": {},
   "outputs": [
    {
     "name": "stdout",
     "output_type": "stream",
     "text": [
      "63496\n"
     ]
    }
   ],
   "source": [
    "# get all the wrong pics\n",
    "rights = [w for w in os.listdir(os.path.join(raw_path,\"right\"))]\n",
    "n_rights = len(rights)\n",
    "print(n_rights)"
   ]
  },
  {
   "cell_type": "code",
   "execution_count": 45,
   "id": "b42b2059-25e1-4150-b243-cd1ab0fe13ad",
   "metadata": {},
   "outputs": [
    {
     "name": "stdout",
     "output_type": "stream",
     "text": [
      "1582\n"
     ]
    }
   ],
   "source": [
    "# populate the training\n",
    "special_rights = set([w for w in rights if w.endswith(\"_s.jpg\")])\n",
    "train_set = special_rights.copy()\n",
    "train_set.update(set(random.sample([x for x in rights if x not in special_rights], n_train - len(special_rights))))\n",
    "print(len(train_set))"
   ]
  },
  {
   "cell_type": "code",
   "execution_count": 46,
   "id": "e5595ed8-269f-418a-bdb9-402652904df9",
   "metadata": {},
   "outputs": [
    {
     "name": "stdout",
     "output_type": "stream",
     "text": [
      "176\n"
     ]
    }
   ],
   "source": [
    "validation_set = set(random.sample([x for x in os.listdir(os.path.join(raw_path,\"right\")) if x not in train_set], n_validation))\n",
    "print(len(validation_set))"
   ]
  },
  {
   "cell_type": "code",
   "execution_count": 47,
   "id": "672ec2f0-b2a7-472e-8ea9-01fdc6165baf",
   "metadata": {},
   "outputs": [],
   "source": [
    "for pic in train_set:\n",
    "    shutil.copy2(os.path.join(raw_path,\"right\",pic),os.path.join(train_path,\"right\",pic))"
   ]
  },
  {
   "cell_type": "code",
   "execution_count": 48,
   "id": "9e5b7e99-eb60-4e5b-b544-25285d4d0548",
   "metadata": {},
   "outputs": [],
   "source": [
    "for pic in validation_set:\n",
    "    shutil.copy2(os.path.join(raw_path,\"right\",pic),os.path.join(validation_path,\"right\",pic))"
   ]
  },
  {
   "cell_type": "code",
   "execution_count": 49,
   "id": "f818a66d-d3cc-490a-a9e4-c61e2b6ea354",
   "metadata": {},
   "outputs": [
    {
     "name": "stdout",
     "output_type": "stream",
     "text": [
      "176\n"
     ]
    }
   ],
   "source": [
    "validation_set = set(random.sample([x for x in os.listdir(os.path.join(raw_path,\"right\")) if x not in train_set], n_validation))\n",
    "print(len(validation_set))"
   ]
  },
  {
   "cell_type": "code",
   "execution_count": null,
   "id": "ea979352-3c68-4140-9682-8d39cd88bd7b",
   "metadata": {},
   "outputs": [],
   "source": []
  }
 ],
 "metadata": {
  "kernelspec": {
   "display_name": "Python 3 (ipykernel)",
   "language": "python",
   "name": "python3"
  },
  "language_info": {
   "codemirror_mode": {
    "name": "ipython",
    "version": 3
   },
   "file_extension": ".py",
   "mimetype": "text/x-python",
   "name": "python",
   "nbconvert_exporter": "python",
   "pygments_lexer": "ipython3",
   "version": "3.12.4"
  }
 },
 "nbformat": 4,
 "nbformat_minor": 5
}
