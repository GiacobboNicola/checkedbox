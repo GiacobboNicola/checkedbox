{
 "cells": [
  {
   "cell_type": "code",
   "execution_count": 53,
   "id": "bfd772a1-ffcc-4d3e-9515-073cfcb1147f",
   "metadata": {},
   "outputs": [],
   "source": [
    "import os\n",
    "import re\n",
    "import shutil"
   ]
  },
  {
   "cell_type": "code",
   "execution_count": 59,
   "id": "a0b4809c-2e2d-4ffa-b877-835d00ffb6cd",
   "metadata": {},
   "outputs": [],
   "source": [
    "classes = [\"empty\", \"right\", \"wrong\"]\n",
    "old_path = \"../data/to_check/val\"\n",
    "raw_path = \"../data/raw/\"\n",
    "train_path = \"../data/train\"\n",
    "validation_path = \"../data/validation\"\n",
    "#low = [\"empty\"]\n",
    "low = []\n",
    "special = [\"empty\", \"right\", \"wrong\"]"
   ]
  },
  {
   "cell_type": "code",
   "execution_count": 60,
   "id": "a7916e30-e292-4ef4-af68-5f5eca08ce11",
   "metadata": {},
   "outputs": [],
   "source": [
    "\"\"\"\n",
    "upload the existing jpg\n",
    "\"\"\"\n",
    "def get_existing(classes):\n",
    "    jpgs = []\n",
    "    for c in classes:\n",
    "        for f in os.listdir(os.path.join(raw_path,c)):\n",
    "            parts = f.split(\"_\")\n",
    "            filename = \"_\".join(parts[:-1])\n",
    "            jpgs.append(filename)\n",
    "    return jpgs"
   ]
  },
  {
   "cell_type": "code",
   "execution_count": 61,
   "id": "c4f3c0d1-2d02-4610-bd3e-930f41d33141",
   "metadata": {},
   "outputs": [],
   "source": [
    "#for c in classes:\n",
    "#    jpgs = []\n",
    "#    for f in os.listdir(os.path.join(new_path,c)):\n",
    "#        parts = f.split(\"_\")\n",
    "#        ext = parts[-1]\n",
    "#        parts = parts[:len(parts)-2]\n",
    "#        filename = \"_\".join(parts) + \"_\" + ext\n",
    "#        print(filename)\n",
    "#        os.rename(os.path.join(new_path,c,f), os.path.join(new_path,c,filename))"
   ]
  },
  {
   "cell_type": "code",
   "execution_count": 62,
   "id": "8e30a0de-72f8-440f-9875-f11da63b92f2",
   "metadata": {},
   "outputs": [
    {
     "name": "stdout",
     "output_type": "stream",
     "text": [
      "1091\n"
     ]
    }
   ],
   "source": [
    "existing_jpgs = get_existing([\"empty\", \"right\", \"wrong\"])\n",
    "print(len(existing_jpgs))"
   ]
  },
  {
   "cell_type": "code",
   "execution_count": 63,
   "id": "0bc8d1de-57ac-46ad-9af4-4ed0d5888815",
   "metadata": {},
   "outputs": [
    {
     "name": "stdout",
     "output_type": "stream",
     "text": [
      "---> empty\n",
      "file nuovi aggiunti alla classe empty: 60\n",
      "file già presenti nel nella classe empty: 4\n",
      "['1478994_9_0_4577_90.jpg', '1478994_9_0_4577_180.jpg', '1478994_9_0_4577_0.jpg', '1478994_9_0_4577_270.jpg']\n",
      "---> right\n",
      "file nuovi aggiunti alla classe right: 111\n",
      "file già presenti nel nella classe right: 8\n",
      "['1479087_15_0_2934_270.jpg', '1479087_15_0_2934_90.jpg', '1479087_15_0_2934_180.jpg', '1478973_7_2_2215_0.jpg', '1478973_7_2_2215_270.jpg', '1479087_15_0_2934_0.jpg', '1478973_7_2_2215_180.jpg', '1478973_7_2_2215_90.jpg']\n",
      "---> wrong\n",
      "file nuovi aggiunti alla classe wrong: 91\n",
      "file già presenti nel nella classe wrong: 12\n",
      "['1484700_1_1_180.jpg', '1479052_5_3_2388_180.jpg', '1479052_5_3_2388_90.jpg', '1479041_12_3_2205_90.jpg', '1479052_5_3_2388_0.jpg', '1479041_12_3_2205_180.jpg', '1479041_12_3_2205_0.jpg', '1484700_1_1_90.jpg', '1479041_12_3_2205_270.jpg', '1484700_1_1_0.jpg', '1484700_1_1_270.jpg', '1479052_5_3_2388_270.jpg']\n"
     ]
    }
   ],
   "source": [
    "\"\"\"\n",
    "credibility:\n",
    "    n -> normal\n",
    "    s -> special\n",
    "    l -> low\n",
    "\"\"\"\n",
    "for c in classes:\n",
    "    print(f\"---> {c.replace(\"_\",\"\")}\")\n",
    "    already_present = []\n",
    "    new_files = []\n",
    "    for filename in os.listdir(os.path.join(old_path,c)):\n",
    "        parts = filename.split(\"_\")[:3]\n",
    "        if(\"_\".join(parts) in existing_jpgs):\n",
    "            already_present.append(filename)\n",
    "        else:\n",
    "#            if(re.match(r\".+_0\\.[0-9]+\\.jpg\", filename)):\n",
    "            if filename.endswith(\"_0.jpg\"):\n",
    "                if c in special:\n",
    "                    parts.append(\"s.jpg\")\n",
    "                elif c in low:\n",
    "                    parts.append(\"l.jpg\")\n",
    "                else:\n",
    "                    parts.append(\"n.jpg\")\n",
    "                new_files.append(\"_\".join(parts))\n",
    "    #print(new_files)\n",
    "                shutil.copy2(os.path.join(old_path,c,filename),os.path.join(raw_path,c.replace(\"_\",\"\"),\"_\".join(parts)))\n",
    "                #shutil.copy2(os.path.join(old_path,c,filename),os.path.join(train_path,c.replace(\"_\",\"\"),\"_\".join(parts)))\n",
    "                shutil.copy2(os.path.join(old_path,c,filename),os.path.join(validation_path,c.replace(\"_\",\"\"),\"_\".join(parts)))\n",
    "    print(f\"file nuovi aggiunti alla classe {c}: {len(new_files)}\")\n",
    "    print(f\"file già presenti nel nella classe {c}: {len(already_present)}\\n{already_present}\")"
   ]
  },
  {
   "cell_type": "code",
   "execution_count": null,
   "id": "6555f2e1-3dc2-431c-ab2d-bd60740877e4",
   "metadata": {},
   "outputs": [],
   "source": []
  }
 ],
 "metadata": {
  "kernelspec": {
   "display_name": "Python 3 (ipykernel)",
   "language": "python",
   "name": "python3"
  },
  "language_info": {
   "codemirror_mode": {
    "name": "ipython",
    "version": 3
   },
   "file_extension": ".py",
   "mimetype": "text/x-python",
   "name": "python",
   "nbconvert_exporter": "python",
   "pygments_lexer": "ipython3",
   "version": "3.12.4"
  }
 },
 "nbformat": 4,
 "nbformat_minor": 5
}
