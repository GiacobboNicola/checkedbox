{
 "cells": [
  {
   "cell_type": "code",
   "execution_count": 28,
   "id": "bfd772a1-ffcc-4d3e-9515-073cfcb1147f",
   "metadata": {},
   "outputs": [],
   "source": [
    "import os\n",
    "import shutil\n",
    "from datetime import datetime"
   ]
  },
  {
   "cell_type": "code",
   "execution_count": 35,
   "id": "a0b4809c-2e2d-4ffa-b877-835d00ffb6cd",
   "metadata": {},
   "outputs": [],
   "source": [
    "classes = [\"_empty\", \"right\", \"wrong\", \"empty\"]\n",
    "old_path = \"../data/to_check\"\n",
    "raw_path = \"../data/raw/\"\n",
    "train_path = \"../data/train\"\n",
    "validation_path = \"../data/validation\"\n",
    "#low = [\"empty\"]\n",
    "low = []\n",
    "special = [\"_empty\"]"
   ]
  },
  {
   "cell_type": "code",
   "execution_count": 36,
   "id": "a7916e30-e292-4ef4-af68-5f5eca08ce11",
   "metadata": {},
   "outputs": [],
   "source": [
    "\"\"\"\n",
    "upload the existing jpg\n",
    "\"\"\"\n",
    "def get_existing(classes):\n",
    "    jpgs = []\n",
    "    for c in classes:\n",
    "        for f in os.listdir(os.path.join(raw_path,c)):\n",
    "            parts = f.split(\"_\")\n",
    "            filename = \"_\".join(parts[:-1])\n",
    "            jpgs.append(filename)\n",
    "    return jpgs"
   ]
  },
  {
   "cell_type": "code",
   "execution_count": 37,
   "id": "586a9d74-165b-4dc5-b29e-574210c45c0f",
   "metadata": {},
   "outputs": [],
   "source": [
    "c_e = get_existing([\"empty\"])\n",
    "c_r = get_existing([\"right\"])\n",
    "c_w = get_existing([\"wrong\"])"
   ]
  },
  {
   "cell_type": "code",
   "execution_count": 38,
   "id": "8e30a0de-72f8-440f-9875-f11da63b92f2",
   "metadata": {},
   "outputs": [
    {
     "name": "stdout",
     "output_type": "stream",
     "text": [
      "11160\n"
     ]
    }
   ],
   "source": [
    "existing_jpgs = get_existing([\"empty\", \"right\", \"wrong\"])\n",
    "print(len(existing_jpgs))"
   ]
  },
  {
   "cell_type": "code",
   "execution_count": 39,
   "id": "0bc8d1de-57ac-46ad-9af4-4ed0d5888815",
   "metadata": {},
   "outputs": [
    {
     "name": "stdout",
     "output_type": "stream",
     "text": [
      "---> empty\n",
      "file nuovi aggiunti alla classe _empty: 0\n",
      "file già presenti nel nel database: 75\n",
      "---> right\n",
      "file nuovi aggiunti alla classe right: 0\n",
      "file già presenti nel nel database: 8509\n",
      "---> wrong\n",
      "file nuovi aggiunti alla classe wrong: 0\n",
      "file già presenti nel nel database: 214\n",
      "---> empty\n",
      "file nuovi aggiunti alla classe empty: 0\n",
      "file già presenti nel nel database: 2496\n"
     ]
    }
   ],
   "source": [
    "\"\"\"\n",
    "credibility:\n",
    "    n -> normal\n",
    "    s -> special\n",
    "    l -> low\n",
    "\"\"\"\n",
    "now = datetime.now()\n",
    "with open(f\"upload_{now.strftime('%d%m%Y%_H%M%S')}.log\", \"w\") as log:\n",
    "    for c in classes:\n",
    "        print(f\"---> {c.replace(\"_\",\"\")}\")\n",
    "        already_present = []\n",
    "        new_files = []\n",
    "        for filename in os.listdir(os.path.join(old_path,c)):\n",
    "            if filename.endswith(\"_0.jpg\"):\n",
    "                parts = filename.replace(\".jpg\",\"\").split(\"_\")[:3]\n",
    "        \n",
    "                if(\"_\".join(parts) in existing_jpgs):\n",
    "                    already_present.append(filename)\n",
    "                else:\n",
    "        #            if(re.match(r\".+_0\\.[0-9]+\\.jpg\", filename)):\n",
    "                    if filename.endswith(\"_0.jpg\"):\n",
    "                        if c in special:\n",
    "                            parts.append(\"s.jpg\")\n",
    "                        elif c in low:\n",
    "                            parts.append(\"l.jpg\")\n",
    "                        else:\n",
    "                            parts.append(\"n.jpg\")\n",
    "                        new_files.append(\"_\".join(parts))\n",
    "            #print(new_files)\n",
    "                        shutil.copy2(os.path.join(old_path,c,filename),os.path.join(raw_path,c.replace(\"_\",\"\"),\"_\".join(parts)))\n",
    "                        #shutil.copy2(os.path.join(old_path,c,filename),os.path.join(train_path,c.replace(\"_\",\"\"),\"_\".join(parts)))\n",
    "                        #shutil.copy2(os.path.join(old_path,c,filename),os.path.join(validation_path,c.replace(\"_\",\"\"),\"_\".join(parts)))\n",
    "    #        else:\n",
    "    #            print(\"-> è una rotazione\")\n",
    "        \n",
    "        print(f\"file nuovi aggiunti alla classe {c}: {len(new_files)}\")\n",
    "        print(f\"file già presenti nel nel database: {len(already_present)}\")\n",
    "    \n",
    "    \n",
    "        log.write(f\"file nuovi aggiunti alla classe {c}: {len(new_files)}\\n\")\n",
    "        log.write(f\"file già presenti nel nel database: {len(already_present)}\\n\")\n",
    "        for file in already_present:\n",
    "                if file in c_e:\n",
    "                    cl = \"empty\"\n",
    "                elif file in c_r:\n",
    "                    cl = \"right\"\n",
    "                elif file in c_w:\n",
    "                    cl = \"wrong\"\n",
    "                else:\n",
    "                    cl = \"ERROR\"\n",
    "                log.write(f\"{file} da aggiungere a {c} ma presente in {cl}\\n\")\n"
   ]
  },
  {
   "cell_type": "code",
   "execution_count": null,
   "id": "6555f2e1-3dc2-431c-ab2d-bd60740877e4",
   "metadata": {},
   "outputs": [],
   "source": []
  }
 ],
 "metadata": {
  "kernelspec": {
   "display_name": "Python 3 (ipykernel)",
   "language": "python",
   "name": "python3"
  },
  "language_info": {
   "codemirror_mode": {
    "name": "ipython",
    "version": 3
   },
   "file_extension": ".py",
   "mimetype": "text/x-python",
   "name": "python",
   "nbconvert_exporter": "python",
   "pygments_lexer": "ipython3",
   "version": "3.12.4"
  }
 },
 "nbformat": 4,
 "nbformat_minor": 5
}
