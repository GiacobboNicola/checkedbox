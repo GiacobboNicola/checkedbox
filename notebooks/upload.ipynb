{
 "cells": [
  {
   "cell_type": "code",
   "execution_count": 1,
   "id": "bfd772a1-ffcc-4d3e-9515-073cfcb1147f",
   "metadata": {},
   "outputs": [],
   "source": [
    "import os\n",
    "import re\n",
    "import shutil"
   ]
  },
  {
   "cell_type": "code",
   "execution_count": 2,
   "id": "a0b4809c-2e2d-4ffa-b877-835d00ffb6cd",
   "metadata": {},
   "outputs": [],
   "source": [
    "classes = [\"empty\", \"right\", \"wrong\",\"_wrong\"]\n",
    "old_path = \"../data/all_to_check/\"\n",
    "new_path = \"../data/raw/\"\n",
    "low = [\"empty\"]\n",
    "special = [\"_wrong\"]"
   ]
  },
  {
   "cell_type": "code",
   "execution_count": 3,
   "id": "a7916e30-e292-4ef4-af68-5f5eca08ce11",
   "metadata": {},
   "outputs": [],
   "source": [
    "\"\"\"\n",
    "upload the existing jpg\n",
    "\"\"\"\n",
    "def get_existing(kind):\n",
    "    jpgs = []\n",
    "    for f in os.listdir(os.path.join(new_path,c.replace(\"_\",\"\"))):\n",
    "        parts = f.split(\"_\")\n",
    "        filename = \"_\".join(parts[:-1]) + \".jpg\"\n",
    "        jpgs.append(filename)\n",
    "    return jpgs"
   ]
  },
  {
   "cell_type": "code",
   "execution_count": 4,
   "id": "c4f3c0d1-2d02-4610-bd3e-930f41d33141",
   "metadata": {},
   "outputs": [],
   "source": [
    "#for c in classes:\n",
    "#    jpgs = []\n",
    "#    for f in os.listdir(os.path.join(new_path,c)):\n",
    "#        parts = f.split(\"_\")\n",
    "#        ext = parts[-1]\n",
    "#        parts = parts[:len(parts)-2]\n",
    "#        filename = \"_\".join(parts) + \"_\" + ext\n",
    "#        print(filename)\n",
    "#        os.rename(os.path.join(new_path,c,f), os.path.join(new_path,c,filename))"
   ]
  },
  {
   "cell_type": "code",
   "execution_count": 6,
   "id": "0bc8d1de-57ac-46ad-9af4-4ed0d5888815",
   "metadata": {},
   "outputs": [
    {
     "name": "stdout",
     "output_type": "stream",
     "text": [
      "---> empty\n",
      "file già presenti nel nella classe empty: 202\n",
      "---> right\n",
      "file già presenti nel nella classe right: 15\n",
      "---> wrong\n",
      "file già presenti nel nella classe wrong: 0\n",
      "---> wrong\n",
      "nuovo file\n",
      "['1464037', '20', '1', 's.jpg']\n",
      "nuovo file\n",
      "['1464037', '27', '3', 's.jpg']\n",
      "nuovo file\n",
      "['1464037', '20', '0', 's.jpg']\n",
      "nuovo file\n",
      "['1464037', '20', '2', 's.jpg']\n",
      "nuovo file\n",
      "['1464037', '27', '2', 's.jpg']\n",
      "nuovo file\n",
      "['1464037', '20', '3', 's.jpg']\n",
      "file già presenti nel nella classe _wrong: 0\n"
     ]
    }
   ],
   "source": [
    "\"\"\"\n",
    "credibility:\n",
    "    n -> normal\n",
    "    s -> special\n",
    "    l -> low\n",
    "\"\"\"\n",
    "for c in classes:\n",
    "    print(f\"---> {c.replace(\"_\",\"\")}\")\n",
    "    already_present = []\n",
    "    new_files = []\n",
    "    jpgs = get_existing(c.replace(\"_\",\"\"))\n",
    "    for filename in os.listdir(os.path.join(old_path,c)):\n",
    "        if(filename in jpgs):\n",
    "            already_present.append(filename)\n",
    "        else:\n",
    "#            if(re.match(r\".+_0\\.[0-9]+\\.jpg\", filename)):\n",
    "                parts = filename.split(\"_\")\n",
    "                parts[-1] = parts[-1].replace(\".jpg\", \"\")\n",
    "                if c in special:\n",
    "                    parts.append(\"s.jpg\")\n",
    "                elif c in low:\n",
    "                    parts.append(\"l.jpg\")\n",
    "                else:\n",
    "                    parts.append(\"n.jpg\")\n",
    "                new_files.append(\"_\".join(parts))\n",
    "                shutil.copy2(os.path.join(old_path,c,filename),os.path.join(new_path,c.replace(\"_\",\"\"),\"_\".join(parts)))\n",
    "    print(f\"file nuovi aggiunti alla classe {c}: {len(new_files}\")\n",
    "    print(f\"file già presenti nel nella classe {c}: {len(already_present)}\")"
   ]
  },
  {
   "cell_type": "code",
   "execution_count": null,
   "id": "6555f2e1-3dc2-431c-ab2d-bd60740877e4",
   "metadata": {},
   "outputs": [],
   "source": []
  }
 ],
 "metadata": {
  "kernelspec": {
   "display_name": "Python 3 (ipykernel)",
   "language": "python",
   "name": "python3"
  },
  "language_info": {
   "codemirror_mode": {
    "name": "ipython",
    "version": 3
   },
   "file_extension": ".py",
   "mimetype": "text/x-python",
   "name": "python",
   "nbconvert_exporter": "python",
   "pygments_lexer": "ipython3",
   "version": "3.12.3"
  }
 },
 "nbformat": 4,
 "nbformat_minor": 5
}
